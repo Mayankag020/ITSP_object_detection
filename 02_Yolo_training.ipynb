{
  "nbformat": 4,
  "nbformat_minor": 0,
  "metadata": {
    "colab": {
      "name": "Yolo_training.ipynb",
      "provenance": [],
      "collapsed_sections": []
    },
    "kernelspec": {
      "name": "python3",
      "display_name": "Python 3"
    },
    "language_info": {
      "name": "python"
    },
    "accelerator": "GPU"
  },
  "cells": [
    {
      "cell_type": "code",
      "execution_count": null,
      "metadata": {
        "id": "Q68GqDwYPcw7"
      },
      "outputs": [],
      "source": [
        "import os\n",
        "import cv2"
      ]
    },
    {
      "cell_type": "code",
      "source": [
        "os.chdir('/content/drive/MyDrive/Yolo_training')"
      ],
      "metadata": {
        "id": "8g-kxAnRgnUD"
      },
      "execution_count": null,
      "outputs": []
    },
    {
      "cell_type": "code",
      "source": [
        "!git clone https://github.com/ultralytics/yolov5.git"
      ],
      "metadata": {
        "id": "MyfoaqxphCfr"
      },
      "execution_count": null,
      "outputs": []
    },
    {
      "cell_type": "code",
      "source": [
        "os.chdir('yolov5')"
      ],
      "metadata": {
        "id": "xUxZNGl2jeA4"
      },
      "execution_count": null,
      "outputs": []
    },
    {
      "cell_type": "code",
      "source": [
        "!pip install -r requirements.txt"
      ],
      "metadata": {
        "id": "_xhsS5e3nzEF"
      },
      "execution_count": null,
      "outputs": []
    },
    {
      "cell_type": "markdown",
      "source": [
        "## Training YOLO v5 model"
      ],
      "metadata": {
        "id": "brXLNLQifLX5"
      }
    },
    {
      "cell_type": "code",
      "source": [
        "!python train.py --data data.yaml --cfg yolov5s.yaml --batch-size 8 --name Model_new --epochs 50"
      ],
      "metadata": {
        "id": "9CsI6-B0fQ6k"
      },
      "execution_count": null,
      "outputs": []
    },
    {
      "cell_type": "code",
      "source": [
        "!python export.py --weights runs/train/Model_new3/weights/best.pt --include torchscript onnx"
      ],
      "metadata": {
        "id": "H2MI5AR4k86p"
      },
      "execution_count": null,
      "outputs": []
    },
    {
      "cell_type": "code",
      "source": [
        "!python val.py --weights best_new.onnx --data data.yaml --img 640"
      ],
      "metadata": {
        "id": "0Nr2dv2c8Gso"
      },
      "execution_count": null,
      "outputs": []
    }
  ]
}